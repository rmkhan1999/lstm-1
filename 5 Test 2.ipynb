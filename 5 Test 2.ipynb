{
 "cells": [
  {
   "cell_type": "markdown",
   "metadata": {},
   "source": [
    "### 5A: LSTM"
   ]
  },
  {
   "cell_type": "code",
   "execution_count": 12,
   "metadata": {},
   "outputs": [],
   "source": [
    "# Import necessary packages\n",
    "\n",
    "import os\n",
    "import numpy as np\n",
    "import pandas as pd\n",
    "import matplotlib.pyplot as plt\n",
    "\n",
    "import torch\n",
    "import torch.nn as nn\n",
    "import torch.nn.functional as F\n",
    "from torch.nn import Transformer\n",
    "\n",
    "import torch.optim as optim\n",
    "from torch.optim.lr_scheduler import ReduceLROnPlateau\n",
    "from torch.utils.data import Dataset, DataLoader\n",
    "\n",
    "import tqdm\n",
    "import kagglehub\n",
    "from gensim.models import Word2Vec"
   ]
  },
  {
   "cell_type": "code",
   "execution_count": 13,
   "metadata": {},
   "outputs": [
    {
     "data": {
      "text/plain": [
       "<torch._C.Generator at 0x1fb9e2e7cd0>"
      ]
     },
     "execution_count": 13,
     "metadata": {},
     "output_type": "execute_result"
    }
   ],
   "source": [
    "# Hyperparameters config\n",
    "\n",
    "class CFG:\n",
    "  seed = 42\n",
    "\n",
    "  n_epochs = 25\n",
    "  batch_size = 32\n",
    "  learning_rate = 0.001\n",
    "  \n",
    "  weight_decay = 1.0e-5\n",
    "  patience = 2\n",
    "  lr_factor = 0.5\n",
    "  gradclip = 1.0\n",
    "  # lrd_step = 5\n",
    "  # lrd_gamma = 0.8\n",
    "  lstm_dropout = 0.5\n",
    "  lstm_dropout_embed = 0.5\n",
    "  \n",
    "  max_len = 20\n",
    "  num_lstm_layers = 2\n",
    "  # momentum = 0.9\n",
    "  # nesterov = False\n",
    "\n",
    "  vocab_size = None\n",
    "  embedding_dim = 256\n",
    "  hidden_dim = 256\n",
    "  min_split_length = 15\n",
    "  \n",
    "  num_T_heads = 8\n",
    "  T_embedding_dim = 512\n",
    "  num_encoder_layers = 6\n",
    "  num_decoder_layers = 6\n",
    "  dim_feedforward = 2048\n",
    "  T_dropout= 0.1\n",
    "\n",
    "np.random.seed(CFG.seed)\n",
    "torch.manual_seed(CFG.seed)"
   ]
  },
  {
   "cell_type": "code",
   "execution_count": 14,
   "metadata": {},
   "outputs": [
    {
     "name": "stdout",
     "output_type": "stream",
     "text": [
      "Dataset downloaded to: C:\\Users\\Asus\\.cache\\kagglehub\\datasets\\praveengovi\\emotions-dataset-for-nlp\\versions\\1\n",
      "[['i', 'didnt', 'feel', 'humiliated'], ['i', 'can', 'go', 'from', 'feeling', 'so', 'hopeless', 'to', 'so', 'damned', 'hopeful', 'just', 'from', 'being', 'around', 'someone', 'who', 'cares', 'and', 'is', 'awake'], ['im', 'grabbing', 'a', 'minute', 'to', 'post', 'i', 'feel', 'greedy', 'wrong']]\n"
     ]
    }
   ],
   "source": [
    "# Load and preprocess the dataset\n",
    "\n",
    "path = kagglehub.dataset_download(\"praveengovi/emotions-dataset-for-nlp\")\n",
    "print(\"Dataset downloaded to:\", path)\n",
    "\n",
    "train_file = os.path.join(path, \"train.txt\")\n",
    "val_file = os.path.join(path, \"val.txt\")\n",
    "test_file = os.path.join(path, \"test.txt\")\n",
    "\n",
    "def load_text(filepath):\n",
    "    df = pd.read_csv(filepath, names=['text', 'emotion'], sep=';', usecols=['text'])\n",
    "    return df['text'].tolist()\n",
    "\n",
    "def preprocess(sentence):\n",
    "    sentence = sentence.lower()\n",
    "    tokens = sentence.split()\n",
    "    return tokens\n",
    "\n",
    "raw_train_sents = load_text(train_file)\n",
    "raw_val_sents = load_text(val_file)\n",
    "raw_test_sents = load_text(test_file)\n",
    "\n",
    "train_tokens = [preprocess(s) for s in raw_train_sents]\n",
    "val_tokens = [preprocess(s) for s in raw_val_sents]\n",
    "test_tokens = [preprocess(s) for s in raw_test_sents]\n",
    "\n",
    "print(train_tokens[:3])"
   ]
  },
  {
   "cell_type": "code",
   "execution_count": 15,
   "metadata": {},
   "outputs": [
    {
     "name": "stdout",
     "output_type": "stream",
     "text": [
      "Vocabulary size: 15214\n"
     ]
    }
   ],
   "source": [
    "# Build vocabulary, map to indices, and construct Word2Vec embedding matrix\n",
    "\n",
    "vocab_set = set()\n",
    "for toks in train_tokens:\n",
    "    vocab_set.update(toks)\n",
    "vocab_list = [\"EOL\", \"UNK\"] + sorted(list(vocab_set))\n",
    "vocab_size = len(vocab_list)\n",
    "print(\"Vocabulary size:\", vocab_size)\n",
    "CFG.vocab_size = vocab_size\n",
    "\n",
    "w2i = {w: i for i, w in enumerate(vocab_list)}\n",
    "i2w = {i: w for i, w in enumerate(vocab_list)}\n",
    "\n",
    "def word2idx(w):\n",
    "    return w2i.get(w, 1)\n",
    "\n",
    "def idx2word(i):\n",
    "    return i2w.get(i, \"UNK\")\n",
    "\n",
    "w2v_model = Word2Vec(sentences=train_tokens, vector_size=CFG.embedding_dim, \n",
    "                     window=5, min_count=1, seed=CFG.seed, epochs=CFG.n_epochs)\n",
    "embedding_matrix = np.zeros((vocab_size, CFG.embedding_dim), dtype=np.float32)\n",
    "for word, i in sorted(list(w2i.items())):\n",
    "    if word in w2v_model.wv:\n",
    "        embedding_matrix[i] = w2v_model.wv[word]\n",
    "    else:\n",
    "        embedding_matrix[i] = np.random.rand(CFG.embedding_dim).astype(np.float32)"
   ]
  },
  {
   "cell_type": "code",
   "execution_count": 16,
   "metadata": {},
   "outputs": [],
   "source": [
    "# Expand the dataset to include more partial sentences, and set all sentences to max length\n",
    "\n",
    "def expand_dataset(data):\n",
    "    new_data = []\n",
    "    for i in data:\n",
    "        f = False\n",
    "        while len(i) >= CFG.min_split_length:\n",
    "            f = True\n",
    "            x = i.copy()\n",
    "            new_data.append(x)\n",
    "            i.pop()\n",
    "        if not f:\n",
    "            new_data.append(i)\n",
    "\n",
    "    return new_data\n",
    "\n",
    "def pad(tokens):\n",
    "    tokens = tokens[:CFG.max_len]\n",
    "    while len(tokens) < CFG.max_len:\n",
    "        tokens.append(\"EOL\")\n",
    "    return tokens\n",
    "\n",
    "# train_tokens = expand_dataset(train_tokens)\n",
    "# val_tokens = expand_dataset(val_tokens)\n",
    "train_tokens = [pad(s) for s in train_tokens]\n",
    "val_tokens = [pad(s) for s in val_tokens]\n",
    "test_tokens = [pad(s) for s in test_tokens]\n"
   ]
  },
  {
   "cell_type": "code",
   "execution_count": 17,
   "metadata": {},
   "outputs": [],
   "source": [
    "# Convert all tokens to indices\n",
    "\n",
    "def convert_tokens_to_indices(list_of_token_lists):\n",
    "    all_indices = []\n",
    "    for tokens in list_of_token_lists:\n",
    "        idx_seq = [word2idx(w) for w in tokens]\n",
    "        all_indices.append(idx_seq)\n",
    "    return np.array(all_indices, dtype=np.int64)\n",
    "\n",
    "train_indices = convert_tokens_to_indices(train_tokens)\n",
    "val_indices = convert_tokens_to_indices(val_tokens)\n",
    "test_indices = convert_tokens_to_indices(test_tokens)"
   ]
  },
  {
   "cell_type": "code",
   "execution_count": 18,
   "metadata": {},
   "outputs": [],
   "source": [
    "# Make the dataset as tensors\n",
    "\n",
    "class NextWordDataset(Dataset):\n",
    "    def __init__(self, sequences):\n",
    "        self.sequences = sequences\n",
    "\n",
    "    def __len__(self):\n",
    "        return len(self.sequences)\n",
    "\n",
    "    def __getitem__(self, idx):\n",
    "        sequence = self.sequences[idx]\n",
    "        \n",
    "        # Find first EOL token\n",
    "        eol_idx = None\n",
    "        for i, token in enumerate(sequence):\n",
    "            if token == 0:  # EOL token\n",
    "                eol_idx = i\n",
    "                break\n",
    "        \n",
    "        if eol_idx is None:\n",
    "            eol_idx = len(sequence)\n",
    "        \n",
    "        # Get meaningful part of sequence (before first EOL)\n",
    "        meaningful_seq = sequence[:eol_idx]\n",
    "        # Ensure sequence is at least 2 tokens long\n",
    "        if len(meaningful_seq) < 2:\n",
    "            meaningful_seq = np.pad(meaningful_seq, (0, 2 - len(meaningful_seq)),\n",
    "                                    constant_values=0)  # Pad with EOL\n",
    "        \n",
    "        # Truncate or pad sequence to max_sequence_length\n",
    "        if len(meaningful_seq) > CFG.max_len:\n",
    "            meaningful_seq = meaningful_seq[:CFG.max_len]\n",
    "        else:\n",
    "            meaningful_seq = np.pad(meaningful_seq, \n",
    "                                    (0, CFG.max_len - len(meaningful_seq)),\n",
    "                                    constant_values=0)  # Pad with EOL\n",
    "        \n",
    "        # Create input and target sequences\n",
    "        input_seq = meaningful_seq[:-1]  # All tokens except last\n",
    "        target_seq = meaningful_seq[1:]   # All tokens except first\n",
    "        \n",
    "        return torch.tensor(input_seq, dtype=torch.long), torch.tensor(target_seq, dtype=torch.long)"
   ]
  },
  {
   "cell_type": "code",
   "execution_count": 19,
   "metadata": {},
   "outputs": [],
   "source": [
    "# Define the LSTM model\n",
    "\n",
    "class LSTMLanguageModel(nn.Module):\n",
    "    def __init__(self, embedding_weights=None):\n",
    "        super(LSTMLanguageModel, self).__init__()\n",
    "        self.embedding = nn.Embedding(CFG.vocab_size, CFG.embedding_dim)\n",
    "        if embedding_weights is not None:\n",
    "            self.embedding.weight.data.copy_(torch.from_numpy(embedding_weights))        \n",
    "        self.lstm = nn.LSTM(CFG.embedding_dim, CFG.hidden_dim, \n",
    "                            num_layers=CFG.num_lstm_layers, batch_first=True, dropout=CFG.lstm_dropout)\n",
    "        \n",
    "        self.layer_norm = nn.LayerNorm(CFG.hidden_dim)\n",
    "        self.dropout = nn.Dropout(CFG.lstm_dropout)\n",
    "        self.embed_dropout = nn.Dropout(CFG.lstm_dropout_embed)\n",
    "        self.fc = nn.Linear(CFG.hidden_dim, CFG.vocab_size)\n",
    "\n",
    "    def forward(self, x, hidden=None):\n",
    "        x = self.embedding(x) \n",
    "        x = self.embed_dropout(x)\n",
    "        \n",
    "        # if hidden is None:\n",
    "        #     batch_size = x.size(0)\n",
    "        #     device = next(self.parameters()).device\n",
    "        #     h = torch.zeros(CFG.num_lstm_layers, batch_size, CFG.hidden_dim).to(device)\n",
    "        #     c = torch.zeros(CFG.num_lstm_layers, batch_size, CFG.hidden_dim).to(device)\n",
    "        #     hidden = (h, c)\n",
    "        \n",
    "        x, hidden = self.lstm(x)#, hidden)\n",
    "        x = self.dropout(x)\n",
    "        x = self.layer_norm(x)\n",
    "        logits = self.fc(x)\n",
    "        return logits"
   ]
  },
  {
   "cell_type": "code",
   "execution_count": 20,
   "metadata": {},
   "outputs": [
    {
     "name": "stderr",
     "output_type": "stream",
     "text": [
      "C:\\Users\\Asus\\AppData\\Local\\Packages\\PythonSoftwareFoundation.Python.3.11_qbz5n2kfra8p0\\LocalCache\\local-packages\\Python311\\site-packages\\torch\\optim\\lr_scheduler.py:62: UserWarning: The verbose parameter is deprecated. Please use get_last_lr() to access the learning rate.\n",
      "  warnings.warn(\n"
     ]
    }
   ],
   "source": [
    "# Prepare the dataloaders for training and testing\n",
    "\n",
    "train_dataset = NextWordDataset(train_indices)\n",
    "val_dataset = NextWordDataset(val_indices)\n",
    "test_dataset = NextWordDataset(test_indices)\n",
    "\n",
    "train_loader = DataLoader(train_dataset, batch_size=CFG.batch_size, shuffle=True)\n",
    "val_loader = DataLoader(val_dataset, batch_size=CFG.batch_size, shuffle=False)\n",
    "test_loader = DataLoader(test_dataset, batch_size=CFG.batch_size, shuffle=False)\n",
    "\n",
    "device = torch.device(\"cuda\" if torch.cuda.is_available() else \"cpu\")\n",
    "model = LSTMLanguageModel(embedding_weights=embedding_matrix)\n",
    "model = model.to(device)\n",
    "\n",
    "criterion = nn.CrossEntropyLoss(ignore_index=0) # Ignore EOL\n",
    "optimizer = optim.AdamW(model.parameters(), lr=CFG.learning_rate, weight_decay=CFG.weight_decay)\n",
    "scheduler = torch.optim.lr_scheduler.ReduceLROnPlateau(optimizer, 'min', patience=CFG.patience, \n",
    "                                                       factor=CFG.lr_factor, verbose=True)\n",
    "# optimizer = optim.SGD(model.parameters(), lr=CFG.learning_rate, weight_decay=CFG.weight_decay,\n",
    "#                       momentum=CFG.momentum, nesterov=CFG.nesterov)\n",
    "# scheduler = StepLR(optimizer, step_size=CFG.lrd_step, gamma=CFG.lrd_gamma)"
   ]
  },
  {
   "cell_type": "code",
   "execution_count": 21,
   "metadata": {},
   "outputs": [
    {
     "name": "stderr",
     "output_type": "stream",
     "text": [
      "Epoch [1/25]: 100%|██████████| 500/500 [00:35<00:00, 14.13batch/s, Avg Loss=5.8800]\n"
     ]
    },
    {
     "name": "stdout",
     "output_type": "stream",
     "text": [
      "Epoch [1/25] || Avg Train Loss: 5.879990 || Avg Val Loss: 5.774945 || Current LR: 0.001\n"
     ]
    },
    {
     "name": "stderr",
     "output_type": "stream",
     "text": [
      "Epoch [2/25]: 100%|██████████| 500/500 [00:35<00:00, 14.19batch/s, Avg Loss=5.2933]\n"
     ]
    },
    {
     "name": "stdout",
     "output_type": "stream",
     "text": [
      "Epoch [2/25] || Avg Train Loss: 5.293280 || Avg Val Loss: 5.675813 || Current LR: 0.001\n"
     ]
    },
    {
     "name": "stderr",
     "output_type": "stream",
     "text": [
      "Epoch [3/25]: 100%|██████████| 500/500 [00:39<00:00, 12.64batch/s, Avg Loss=5.1030]\n"
     ]
    },
    {
     "name": "stdout",
     "output_type": "stream",
     "text": [
      "Epoch [3/25] || Avg Train Loss: 5.103007 || Avg Val Loss: 5.580204 || Current LR: 0.001\n"
     ]
    },
    {
     "name": "stderr",
     "output_type": "stream",
     "text": [
      "Epoch [4/25]: 100%|██████████| 500/500 [00:45<00:00, 10.96batch/s, Avg Loss=4.9635]\n"
     ]
    },
    {
     "name": "stdout",
     "output_type": "stream",
     "text": [
      "Epoch [4/25] || Avg Train Loss: 4.963470 || Avg Val Loss: 5.552071 || Current LR: 0.001\n"
     ]
    },
    {
     "name": "stderr",
     "output_type": "stream",
     "text": [
      "Epoch [5/25]: 100%|██████████| 500/500 [00:56<00:00,  8.81batch/s, Avg Loss=4.8477]\n"
     ]
    },
    {
     "name": "stdout",
     "output_type": "stream",
     "text": [
      "Epoch [5/25] || Avg Train Loss: 4.847740 || Avg Val Loss: 5.590595 || Current LR: 0.001\n"
     ]
    },
    {
     "name": "stderr",
     "output_type": "stream",
     "text": [
      "Epoch [6/25]: 100%|██████████| 500/500 [00:44<00:00, 11.34batch/s, Avg Loss=4.7489]\n"
     ]
    },
    {
     "name": "stdout",
     "output_type": "stream",
     "text": [
      "Epoch [6/25] || Avg Train Loss: 4.748873 || Avg Val Loss: 5.587513 || Current LR: 0.001\n",
      "Early stopping triggered after 6 epochs\n"
     ]
    }
   ],
   "source": [
    "# Training loop\n",
    "\n",
    "train_losses, val_losses = [], []\n",
    "best_val_loss = float('inf')\n",
    "patience_counter = 0\n",
    "\n",
    "for epoch in range(CFG.n_epochs):\n",
    "    # Training phase\n",
    "    \n",
    "    model.train()\n",
    "    train_loss = 0.0\n",
    "    loop = tqdm.tqdm(train_loader, desc=f\"Epoch [{epoch + 1}/{CFG.n_epochs}]\", unit=\"batch\")\n",
    "    \n",
    "    for idx, (batch_x, batch_y) in enumerate(loop):\n",
    "        batch_x, batch_y = batch_x.to(device), batch_y.to(device)\n",
    "        \n",
    "        optimizer.zero_grad()\n",
    "        logits = model(batch_x)\n",
    "        logits = logits.view(-1, CFG.vocab_size)\n",
    "        batch_y = batch_y.view(-1)\n",
    "        \n",
    "        loss = criterion(logits, batch_y)\n",
    "        loss.backward()\n",
    "        torch.nn.utils.clip_grad_norm_(model.parameters(), max_norm=CFG.gradclip)\n",
    "        optimizer.step()\n",
    "        \n",
    "        train_loss += loss.item()\n",
    "        avg_loss = train_loss / (idx + 1)\n",
    "        loop.set_postfix({\"Avg Loss\": f\"{avg_loss:.4f}\"})\n",
    "    \n",
    "    avg_loss = train_loss / len(train_loader)\n",
    "    train_losses.append(avg_loss)\n",
    "    \n",
    "    # Validation phase\n",
    "    model.eval()\n",
    "    val_loss = 0\n",
    "    with torch.no_grad():\n",
    "        for batch_x, batch_y in val_loader:\n",
    "            batch_x, batch_y = batch_x.to(device), batch_y.to(device)\n",
    "            \n",
    "            logits = model(batch_x)\n",
    "            logits = logits.view(-1, CFG.vocab_size)\n",
    "            batch_y = batch_y.view(-1)\n",
    "            \n",
    "            loss = criterion(logits, batch_y)\n",
    "            val_loss += loss.item()\n",
    "\n",
    "    avg_val_loss = val_loss / len(val_loader)\n",
    "    val_losses.append(avg_val_loss)\n",
    "    print(f\"Epoch [{epoch+1}/{CFG.n_epochs}] || Avg Train Loss: {avg_loss:.6f} || Avg Val Loss: {avg_val_loss:.6f} || Current LR: {optimizer.param_groups[0]['lr']}\")\n",
    "    scheduler.step(avg_val_loss)\n",
    "    \n",
    "    # Early stopping\n",
    "    if avg_val_loss < best_val_loss:\n",
    "        best_val_loss = avg_val_loss\n",
    "        patience_counter = 0\n",
    "        # Save best model\n",
    "        torch.save({\n",
    "            'epoch': epoch,\n",
    "            'model_state_dict': model.state_dict(),\n",
    "            # 'preprocessor_word2idx': preprocessor.word2idx,\n",
    "            # 'preprocessor_idx2word': preprocessor.idx2word,\n",
    "            'train_loss': avg_loss,\n",
    "            'val_loss': avg_val_loss,\n",
    "        }, 'best_model.pth')\n",
    "    else:\n",
    "        patience_counter += 1\n",
    "        if patience_counter >= CFG.patience:\n",
    "            print(f'Early stopping triggered after {epoch+1} epochs')\n",
    "            break\n",
    "  "
   ]
  },
  {
   "cell_type": "code",
   "execution_count": 22,
   "metadata": {},
   "outputs": [
    {
     "data": {
      "image/png": "[encoded data removed]",
      "text/plain": [
       "<Figure size 640x480 with 1 Axes>"
      ]
     },
     "metadata": {},
     "output_type": "display_data"
    }
   ],
   "source": [
    "# Plot training loss\n",
    "plt.plot(range(1, len(train_losses)+1), train_losses, label=\"Training Loss\", color=\"blue\")\n",
    "plt.plot(range(1, len(val_losses)+1), val_losses, label=\"Validation Loss\", color=\"orange\")\n",
    "plt.title(f\"Training and Validation Loss over {CFG.n_epochs} Epochs (Batch Size: {CFG.batch_size}, LR: {CFG.learning_rate})\")\n",
    "plt.xlabel(\"Epochs\")\n",
    "plt.ylabel(\"Loss\")\n",
    "plt.legend()\n",
    "plt.show()"
   ]
  },
  {
   "cell_type": "code",
   "execution_count": 23,
   "metadata": {},
   "outputs": [
    {
     "name": "stdout",
     "output_type": "stream",
     "text": [
      "Test Accuracy on Next-Word Prediction: 0.20726548892759392\n"
     ]
    }
   ],
   "source": [
    "# Testing loop\n",
    "\n",
    "def test_model(model, loader):\n",
    "    model.eval()\n",
    "    total_tokens = 0\n",
    "    correct_tokens = 0\n",
    "    \n",
    "    with torch.no_grad():\n",
    "        for batch_x, batch_y in loader:\n",
    "            batch_x, batch_y = batch_x.to(device), batch_y.to(device)\n",
    "\n",
    "            logits = model(batch_x)\n",
    "            preds = logits.argmax(dim=2)\n",
    "            \n",
    "            # Create a mask to ignore padding tokens\n",
    "            mask = batch_y != 0\n",
    "            \n",
    "            # Apply the mask\n",
    "            correct_tokens += ((preds == batch_y) & mask).sum().item()\n",
    "            total_tokens += mask.sum().item()  # Only count non-padding tokens\n",
    "\n",
    "    return correct_tokens / total_tokens\n",
    "\n",
    "\n",
    "test_acc = test_model(model, test_loader)\n",
    "print(\"Test Accuracy on Next-Word Prediction:\", test_acc)"
   ]
  },
  {
   "cell_type": "code",
   "execution_count": 24,
   "metadata": {},
   "outputs": [
    {
     "name": "stdout",
     "output_type": "stream",
     "text": [
      "Partial Input: ['i', 'want']\n",
      "Predicted Completion: to feel like i am being punished for the first time i have been able to be able\n"
     ]
    }
   ],
   "source": [
    "# Try partial sentence completion\n",
    "\n",
    "def predict_completion(model, partial_sentence_tokens, max_length=CFG.max_len):\n",
    "    \"\"\"\n",
    "    Given a partial sentence (as a list of tokens), generate the next words \n",
    "    up to max_length tokens total. This is a greedy approach.\n",
    "    1) Start with partial input (padded to length 20).\n",
    "    2) Pass it through the model, get the predicted next token at each step.\n",
    "    3) Append the predicted token, repeat until we reach max_length or EOL.\n",
    "    \"\"\"\n",
    "    model.eval()\n",
    "    \n",
    "    # Copy so we don't mutate the original\n",
    "    tokens = partial_sentence_tokens[:]\n",
    "    # If partial is longer than max_length, truncate\n",
    "    tokens = tokens[:max_length]\n",
    "    \n",
    "    # If partial is shorter, pad with EOL\n",
    "    while len(tokens) < max_length:\n",
    "        tokens.append(\"EOL\")\n",
    "    \n",
    "    # Convert to indices\n",
    "    input_idxs = [word2idx(w) for w in tokens]\n",
    "    x = torch.tensor([input_idxs], dtype=torch.long, device=device)  # shape (1, 20)\n",
    "    \n",
    "    # We'll do a simple approach: \n",
    "    # - get the model output for each position,\n",
    "    # - pick the argmax from the final position (or from each new position),\n",
    "    # - then fill it in for the next step. \n",
    "    # There are different ways to do \"autoregressive\" generation, but here's a naive method.\n",
    "    \n",
    "    generated = tokens[:]  # store the \"in-progress\" tokens\n",
    "    for i in range(len(partial_sentence_tokens) - 1, max_length):\n",
    "        with torch.no_grad():\n",
    "            logits = model(x)         # shape: (1, 20, vocab_size)\n",
    "            last_step = logits[0, i]  # shape: (vocab_size,)\n",
    "            pred_idx = torch.argmax(last_step).item()\n",
    "            pred_word = idx2word(pred_idx)\n",
    "            \n",
    "            # Replace the EOL or the token at position i+1 with the new predicted word\n",
    "            if i+1 < max_length:\n",
    "                generated[i+1] = pred_word\n",
    "                # Update the input tensor\n",
    "                x[0, i+1] = pred_idx\n",
    "    \n",
    "    # Now remove the original partial tokens from the front\n",
    "    # or simply return the entire \"generated\" sequence from partial length onward\n",
    "    return generated[len(partial_sentence_tokens):]\n",
    "\n",
    "# EXAMPLE USAGE:\n",
    "example_partial = [\"i\", \"want\"]\n",
    "predicted_tokens = predict_completion(model, example_partial, CFG.max_len)\n",
    "print(\"Partial Input:\", example_partial)\n",
    "print(\"Predicted Completion:\", \" \".join(predicted_tokens))"
   ]
  },
  {
   "cell_type": "markdown",
   "metadata": {},
   "source": [
    "### 5B: Transformer"
   ]
  },
  {
   "cell_type": "code",
   "execution_count": 28,
   "metadata": {},
   "outputs": [
    {
     "name": "stdout",
     "output_type": "stream",
     "text": [
      "Training Loss: 9.794084548950195\n"
     ]
    }
   ],
   "source": [
    "# Define model configuration\n",
    "\n",
    "class TransformerModel(nn.Module):\n",
    "    def __init__(self):\n",
    "        super(TransformerModel, self).__init__()\n",
    "        self.embedding = nn.Embedding(CFG.vocab_size, CFG.T_embedding_dim)\n",
    "        self.positional_encoding = PositionalEncoding(CFG.T_embedding_dim)\n",
    "        self.transformer = Transformer(\n",
    "            d_model=CFG.T_embedding_dim,\n",
    "            nhead=CFG.num_T_heads,\n",
    "            num_encoder_layers = CFG.num_encoder_layers,\n",
    "            num_decoder_layers = CFG.num_decoder_layers,\n",
    "            dim_feedforward = CFG.dim_feedforward,\n",
    "            dropout = CFG.T_dropout,\n",
    "            batch_first=True\n",
    "        )\n",
    "        self.fc_out = nn.Linear(CFG.T_embedding_dim, CFG.vocab_size)\n",
    "        \n",
    "    def forward(self, src, tgt, src_mask=None, tgt_mask=None, memory_mask=None):\n",
    "        src = self.embedding(src) + self.positional_encoding(src)\n",
    "        tgt = self.embedding(tgt) + self.positional_encoding(tgt)\n",
    "        output = self.transformer(src, tgt, src_mask=src_mask, tgt_mask=tgt_mask, memory_mask=memory_mask)\n",
    "        output = self.fc_out(output)\n",
    "        return output\n",
    "\n",
    "class PositionalEncoding(nn.Module):\n",
    "    def __init__(self, max_len=5000):\n",
    "        super(PositionalEncoding, self).__init__()\n",
    "        self.dropout = nn.Dropout(p=CFG.T_dropout)\n",
    "\n",
    "        position = torch.arange(0, max_len).unsqueeze(1)\n",
    "        div_term = torch.exp(torch.arange(0, CFG.T_embedding_dim, 2) * -(torch.log(torch.tensor(10000.0)) / CFG.T_embedding_dim))\n",
    "        pe = torch.zeros(max_len, CFG.T_embedding_dim)\n",
    "        pe[:, 0::2] = torch.sin(position * div_term)\n",
    "        pe[:, 1::2] = torch.cos(position * div_term)\n",
    "        self.register_buffer('pe', pe)\n",
    "\n",
    "    def forward(self, x):\n",
    "        x = x.unsqueeze(2) + self.pe[:x.size(1), :]\n",
    "        return self.dropout(x)\n",
    "\n",
    "\n",
    "modelT = TransformerModel()\n",
    "modelT.to(device=\"cuda\")\n",
    "# print(modelT)\n",
    "\n",
    "src = torch.randint(0, CFG.vocab_size, (32, 20))\n",
    "tgt = torch.randint(0, CFG.vocab_size, (32, 20))\n",
    "\n",
    "src, tgt = src.to(device=\"cuda\"), tgt.to(device=\"cuda\")\n",
    "\n",
    "criterion = nn.CrossEntropyLoss(ignore_index=0)\n",
    "optimizer = optim.AdamW(modelT.parameters(), lr=0.001)\n",
    "\n",
    "output = modelT(src, tgt)\n",
    "\n",
    "output = output.view(-1, CFG.vocab_size)\n",
    "tgt = tgt.view(-1)\n",
    "loss = criterion(output, tgt)\n",
    "\n",
    "loss.backward()\n",
    "optimizer.step()\n",
    "\n",
    "print(f\"Training Loss: {loss.item()}\")\n"
   ]
  },
  {
   "cell_type": "code",
   "execution_count": 29,
   "metadata": {},
   "outputs": [
    {
     "ename": "TypeError",
     "evalue": "TransformerModel.forward() missing 1 required positional argument: 'tgt'",
     "output_type": "error",
     "traceback": [
      "\u001b[1;31m---------------------------------------------------------------------------\u001b[0m",
      "\u001b[1;31mTypeError\u001b[0m                                 Traceback (most recent call last)",
      "Cell \u001b[1;32mIn[29], line 52\u001b[0m\n\u001b[0;32m     50\u001b[0m \u001b[38;5;66;03m# EXAMPLE USAGE:\u001b[39;00m\n\u001b[0;32m     51\u001b[0m example_partial \u001b[38;5;241m=\u001b[39m [\u001b[38;5;124m\"\u001b[39m\u001b[38;5;124mi\u001b[39m\u001b[38;5;124m\"\u001b[39m, \u001b[38;5;124m\"\u001b[39m\u001b[38;5;124mwant\u001b[39m\u001b[38;5;124m\"\u001b[39m]\n\u001b[1;32m---> 52\u001b[0m predicted_tokens \u001b[38;5;241m=\u001b[39m \u001b[43mpredict_completionT\u001b[49m\u001b[43m(\u001b[49m\u001b[43mmodelT\u001b[49m\u001b[43m,\u001b[49m\u001b[43m \u001b[49m\u001b[43mexample_partial\u001b[49m\u001b[43m,\u001b[49m\u001b[43m \u001b[49m\u001b[43mCFG\u001b[49m\u001b[38;5;241;43m.\u001b[39;49m\u001b[43mmax_len\u001b[49m\u001b[43m)\u001b[49m\n\u001b[0;32m     53\u001b[0m \u001b[38;5;28mprint\u001b[39m(\u001b[38;5;124m\"\u001b[39m\u001b[38;5;124mPartial Input:\u001b[39m\u001b[38;5;124m\"\u001b[39m, example_partial)\n\u001b[0;32m     54\u001b[0m \u001b[38;5;28mprint\u001b[39m(\u001b[38;5;124m\"\u001b[39m\u001b[38;5;124mPredicted Completion:\u001b[39m\u001b[38;5;124m\"\u001b[39m, \u001b[38;5;124m\"\u001b[39m\u001b[38;5;124m \u001b[39m\u001b[38;5;124m\"\u001b[39m\u001b[38;5;241m.\u001b[39mjoin(predicted_tokens))\n",
      "Cell \u001b[1;32mIn[29], line 35\u001b[0m, in \u001b[0;36mpredict_completionT\u001b[1;34m(model, partial_sentence_tokens, max_length)\u001b[0m\n\u001b[0;32m     33\u001b[0m \u001b[38;5;28;01mfor\u001b[39;00m i \u001b[38;5;129;01min\u001b[39;00m \u001b[38;5;28mrange\u001b[39m(\u001b[38;5;28mlen\u001b[39m(partial_sentence_tokens) \u001b[38;5;241m-\u001b[39m \u001b[38;5;241m1\u001b[39m, max_length):\n\u001b[0;32m     34\u001b[0m     \u001b[38;5;28;01mwith\u001b[39;00m torch\u001b[38;5;241m.\u001b[39mno_grad():\n\u001b[1;32m---> 35\u001b[0m         logits \u001b[38;5;241m=\u001b[39m \u001b[43mmodel\u001b[49m\u001b[43m(\u001b[49m\u001b[43mx\u001b[49m\u001b[43m)\u001b[49m         \u001b[38;5;66;03m# shape: (1, 20, vocab_size)\u001b[39;00m\n\u001b[0;32m     36\u001b[0m         last_step \u001b[38;5;241m=\u001b[39m logits[\u001b[38;5;241m0\u001b[39m, i]  \u001b[38;5;66;03m# shape: (vocab_size,)\u001b[39;00m\n\u001b[0;32m     37\u001b[0m         pred_idx \u001b[38;5;241m=\u001b[39m torch\u001b[38;5;241m.\u001b[39margmax(last_step)\u001b[38;5;241m.\u001b[39mitem()\n",
      "File \u001b[1;32m~\\AppData\\Local\\Packages\\PythonSoftwareFoundation.Python.3.11_qbz5n2kfra8p0\\LocalCache\\local-packages\\Python311\\site-packages\\torch\\nn\\modules\\module.py:1736\u001b[0m, in \u001b[0;36mModule._wrapped_call_impl\u001b[1;34m(self, *args, **kwargs)\u001b[0m\n\u001b[0;32m   1734\u001b[0m     \u001b[38;5;28;01mreturn\u001b[39;00m \u001b[38;5;28mself\u001b[39m\u001b[38;5;241m.\u001b[39m_compiled_call_impl(\u001b[38;5;241m*\u001b[39margs, \u001b[38;5;241m*\u001b[39m\u001b[38;5;241m*\u001b[39mkwargs)  \u001b[38;5;66;03m# type: ignore[misc]\u001b[39;00m\n\u001b[0;32m   1735\u001b[0m \u001b[38;5;28;01melse\u001b[39;00m:\n\u001b[1;32m-> 1736\u001b[0m     \u001b[38;5;28;01mreturn\u001b[39;00m \u001b[38;5;28;43mself\u001b[39;49m\u001b[38;5;241;43m.\u001b[39;49m\u001b[43m_call_impl\u001b[49m\u001b[43m(\u001b[49m\u001b[38;5;241;43m*\u001b[39;49m\u001b[43margs\u001b[49m\u001b[43m,\u001b[49m\u001b[43m \u001b[49m\u001b[38;5;241;43m*\u001b[39;49m\u001b[38;5;241;43m*\u001b[39;49m\u001b[43mkwargs\u001b[49m\u001b[43m)\u001b[49m\n",
      "File \u001b[1;32m~\\AppData\\Local\\Packages\\PythonSoftwareFoundation.Python.3.11_qbz5n2kfra8p0\\LocalCache\\local-packages\\Python311\\site-packages\\torch\\nn\\modules\\module.py:1747\u001b[0m, in \u001b[0;36mModule._call_impl\u001b[1;34m(self, *args, **kwargs)\u001b[0m\n\u001b[0;32m   1742\u001b[0m \u001b[38;5;66;03m# If we don't have any hooks, we want to skip the rest of the logic in\u001b[39;00m\n\u001b[0;32m   1743\u001b[0m \u001b[38;5;66;03m# this function, and just call forward.\u001b[39;00m\n\u001b[0;32m   1744\u001b[0m \u001b[38;5;28;01mif\u001b[39;00m \u001b[38;5;129;01mnot\u001b[39;00m (\u001b[38;5;28mself\u001b[39m\u001b[38;5;241m.\u001b[39m_backward_hooks \u001b[38;5;129;01mor\u001b[39;00m \u001b[38;5;28mself\u001b[39m\u001b[38;5;241m.\u001b[39m_backward_pre_hooks \u001b[38;5;129;01mor\u001b[39;00m \u001b[38;5;28mself\u001b[39m\u001b[38;5;241m.\u001b[39m_forward_hooks \u001b[38;5;129;01mor\u001b[39;00m \u001b[38;5;28mself\u001b[39m\u001b[38;5;241m.\u001b[39m_forward_pre_hooks\n\u001b[0;32m   1745\u001b[0m         \u001b[38;5;129;01mor\u001b[39;00m _global_backward_pre_hooks \u001b[38;5;129;01mor\u001b[39;00m _global_backward_hooks\n\u001b[0;32m   1746\u001b[0m         \u001b[38;5;129;01mor\u001b[39;00m _global_forward_hooks \u001b[38;5;129;01mor\u001b[39;00m _global_forward_pre_hooks):\n\u001b[1;32m-> 1747\u001b[0m     \u001b[38;5;28;01mreturn\u001b[39;00m \u001b[43mforward_call\u001b[49m\u001b[43m(\u001b[49m\u001b[38;5;241;43m*\u001b[39;49m\u001b[43margs\u001b[49m\u001b[43m,\u001b[49m\u001b[43m \u001b[49m\u001b[38;5;241;43m*\u001b[39;49m\u001b[38;5;241;43m*\u001b[39;49m\u001b[43mkwargs\u001b[49m\u001b[43m)\u001b[49m\n\u001b[0;32m   1749\u001b[0m result \u001b[38;5;241m=\u001b[39m \u001b[38;5;28;01mNone\u001b[39;00m\n\u001b[0;32m   1750\u001b[0m called_always_called_hooks \u001b[38;5;241m=\u001b[39m \u001b[38;5;28mset\u001b[39m()\n",
      "\u001b[1;31mTypeError\u001b[0m: TransformerModel.forward() missing 1 required positional argument: 'tgt'"
     ]
    }
   ],
   "source": [
    "# Try partial sentence completion\n",
    "\n",
    "def predict_completionT(model, partial_sentence_tokens, max_length=CFG.max_len):\n",
    "    \"\"\"\n",
    "    Given a partial sentence (as a list of tokens), generate the next words \n",
    "    up to max_length tokens total. This is a greedy approach.\n",
    "    1) Start with partial input (padded to length 20).\n",
    "    2) Pass it through the model, get the predicted next token at each step.\n",
    "    3) Append the predicted token, repeat until we reach max_length or EOL.\n",
    "    \"\"\"\n",
    "    model.eval()\n",
    "    \n",
    "    # Copy so we don't mutate the original\n",
    "    tokens = partial_sentence_tokens[:]\n",
    "    # If partial is longer than max_length, truncate\n",
    "    tokens = tokens[:max_length]\n",
    "    \n",
    "    # If partial is shorter, pad with EOL\n",
    "    while len(tokens) < max_length:\n",
    "        tokens.append(\"EOL\")\n",
    "    \n",
    "    # Convert to indices\n",
    "    input_idxs = [word2idx(w) for w in tokens]\n",
    "    x = torch.tensor([input_idxs], dtype=torch.long, device=device)  # shape (1, 20)\n",
    "    \n",
    "    # We'll do a simple approach: \n",
    "    # - get the model output for each position,\n",
    "    # - pick the argmax from the final position (or from each new position),\n",
    "    # - then fill it in for the next step. \n",
    "    # There are different ways to do \"autoregressive\" generation, but here's a naive method.\n",
    "    \n",
    "    generated = tokens[:]  # store the \"in-progress\" tokens\n",
    "    for i in range(len(partial_sentence_tokens) - 1, max_length):\n",
    "        with torch.no_grad():\n",
    "            logits = model(x)         # shape: (1, 20, vocab_size)\n",
    "            last_step = logits[0, i]  # shape: (vocab_size,)\n",
    "            pred_idx = torch.argmax(last_step).item()\n",
    "            pred_word = idx2word(pred_idx)\n",
    "            \n",
    "            # Replace the EOL or the token at position i+1 with the new predicted word\n",
    "            if i+1 < max_length:\n",
    "                generated[i+1] = pred_word\n",
    "                # Update the input tensor\n",
    "                x[0, i+1] = pred_idx\n",
    "    \n",
    "    # Now remove the original partial tokens from the front\n",
    "    # or simply return the entire \"generated\" sequence from partial length onward\n",
    "    return generated[len(partial_sentence_tokens):]\n",
    "\n",
    "# EXAMPLE USAGE:\n",
    "example_partial = [\"i\", \"want\"]\n",
    "predicted_tokens = predict_completionT(modelT, example_partial, CFG.max_len)\n",
    "print(\"Partial Input:\", example_partial)\n",
    "print(\"Predicted Completion:\", \" \".join(predicted_tokens))"
   ]
  }
 ],
 "metadata": {
  "kernelspec": {
   "display_name": "Python 3",
   "language": "python",
   "name": "python3"
  },
  "language_info": {
   "codemirror_mode": {
    "name": "ipython",
    "version": 3
   },
   "file_extension": ".py",
   "mimetype": "text/x-python",
   "name": "python",
   "nbconvert_exporter": "python",
   "pygments_lexer": "ipython3",
   "version": "3.11.9"
  }
 },
 "nbformat": 4,
 "nbformat_minor": 2
}
